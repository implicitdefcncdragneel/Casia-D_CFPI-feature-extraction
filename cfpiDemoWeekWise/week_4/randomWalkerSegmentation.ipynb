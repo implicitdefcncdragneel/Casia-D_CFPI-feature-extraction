{
 "cells": [
  {
   "cell_type": "code",
   "execution_count": null,
   "metadata": {},
   "outputs": [],
   "source": []
  },
  {
   "cell_type": "markdown",
   "metadata": {},
   "source": [
    "# Using Random walker to generate lables and then segment and finally cleanup using closing operation."
   ]
  },
  {
   "cell_type": "code",
   "execution_count": null,
   "metadata": {},
   "outputs": [],
   "source": []
  },
  {
   "cell_type": "code",
   "execution_count": 14,
   "metadata": {},
   "outputs": [],
   "source": [
    "import matplotlib.pyplot as plt\n",
    "\n",
    "\n",
    "from skimage import io, img_as_float\n",
    "from skimage.restoration import denoise_nl_means, estimate_sigma\n",
    "from skimage import exposure\n",
    "from skimage.segmentation import random_walker\n",
    "\n",
    "\n",
    "import numpy as np\n",
    "\n",
    "from scipy import ndimage as nd"
   ]
  },
  {
   "cell_type": "code",
   "execution_count": null,
   "metadata": {},
   "outputs": [],
   "source": []
  },
  {
   "cell_type": "code",
   "execution_count": 15,
   "metadata": {},
   "outputs": [],
   "source": [
    "img_0 = img_as_float(io.imread(\"demo.jpg\",as_gray=True))"
   ]
  },
  {
   "cell_type": "code",
   "execution_count": 16,
   "metadata": {},
   "outputs": [],
   "source": [
    "img_1 = img_as_float(io.imread(\"demo1.jpg\",as_gray=True))"
   ]
  },
  {
   "cell_type": "code",
   "execution_count": null,
   "metadata": {},
   "outputs": [],
   "source": []
  },
  {
   "cell_type": "code",
   "execution_count": null,
   "metadata": {},
   "outputs": [],
   "source": []
  },
  {
   "cell_type": "markdown",
   "metadata": {},
   "source": [
    "# Building Histogram For Finding Two Seperate Peak"
   ]
  },
  {
   "cell_type": "code",
   "execution_count": null,
   "metadata": {},
   "outputs": [],
   "source": []
  },
  {
   "cell_type": "code",
   "execution_count": null,
   "metadata": {},
   "outputs": [],
   "source": []
  },
  {
   "cell_type": "code",
   "execution_count": 17,
   "metadata": {
    "scrolled": false
   },
   "outputs": [
    {
     "data": {
      "text/plain": [
       "(array([1.94e+03, 4.71e+02, 2.10e+02, 1.19e+02, 8.50e+01, 4.60e+01,\n",
       "        3.60e+01, 2.80e+01, 2.80e+01, 1.40e+01, 1.50e+01, 2.30e+01,\n",
       "        1.30e+01, 1.80e+01, 6.00e+00, 8.00e+00, 1.00e+01, 7.00e+00,\n",
       "        6.00e+00, 1.20e+01, 2.00e+00, 1.20e+01, 5.00e+00, 1.30e+01,\n",
       "        1.10e+01, 1.30e+01, 9.00e+00, 5.00e+00, 1.00e+00, 3.00e+00,\n",
       "        6.00e+00, 7.00e+00, 7.00e+00, 7.00e+00, 6.00e+00, 5.00e+00,\n",
       "        2.00e+00, 3.00e+00, 5.00e+00, 6.00e+00, 3.00e+00, 8.00e+00,\n",
       "        2.00e+00, 5.00e+00, 8.00e+00, 6.00e+00, 6.00e+00, 8.00e+00,\n",
       "        4.00e+00, 1.00e+00, 9.00e+00, 1.00e+00, 8.00e+00, 4.00e+00,\n",
       "        1.00e+01, 7.00e+00, 8.00e+00, 4.00e+00, 7.00e+00, 6.00e+00,\n",
       "        4.00e+00, 4.00e+00, 7.00e+00, 3.00e+00, 1.00e+01, 5.00e+00,\n",
       "        4.00e+00, 5.00e+00, 7.00e+00, 7.00e+00, 5.00e+00, 8.00e+00,\n",
       "        1.30e+01, 8.00e+00, 1.10e+01, 2.10e+01, 4.90e+01, 9.80e+01,\n",
       "        1.11e+02, 1.34e+02, 1.32e+02, 1.47e+02, 1.46e+02, 1.45e+02,\n",
       "        1.44e+02, 1.18e+02, 8.00e+01, 5.90e+01, 3.90e+01, 4.00e+01,\n",
       "        3.00e+01, 4.00e+01, 1.00e+01, 0.00e+00, 0.00e+00, 0.00e+00,\n",
       "        0.00e+00, 0.00e+00, 0.00e+00, 0.00e+00]),\n",
       " array([0.  , 0.01, 0.02, 0.03, 0.04, 0.05, 0.06, 0.07, 0.08, 0.09, 0.1 ,\n",
       "        0.11, 0.12, 0.13, 0.14, 0.15, 0.16, 0.17, 0.18, 0.19, 0.2 , 0.21,\n",
       "        0.22, 0.23, 0.24, 0.25, 0.26, 0.27, 0.28, 0.29, 0.3 , 0.31, 0.32,\n",
       "        0.33, 0.34, 0.35, 0.36, 0.37, 0.38, 0.39, 0.4 , 0.41, 0.42, 0.43,\n",
       "        0.44, 0.45, 0.46, 0.47, 0.48, 0.49, 0.5 , 0.51, 0.52, 0.53, 0.54,\n",
       "        0.55, 0.56, 0.57, 0.58, 0.59, 0.6 , 0.61, 0.62, 0.63, 0.64, 0.65,\n",
       "        0.66, 0.67, 0.68, 0.69, 0.7 , 0.71, 0.72, 0.73, 0.74, 0.75, 0.76,\n",
       "        0.77, 0.78, 0.79, 0.8 , 0.81, 0.82, 0.83, 0.84, 0.85, 0.86, 0.87,\n",
       "        0.88, 0.89, 0.9 , 0.91, 0.92, 0.93, 0.94, 0.95, 0.96, 0.97, 0.98,\n",
       "        0.99, 1.  ]),\n",
       " <a list of 100 Patch objects>)"
      ]
     },
     "execution_count": 17,
     "metadata": {},
     "output_type": "execute_result"
    },
    {
     "data": {
      "image/png": "[encoded data removed]",
      "text/plain": [
       "<Figure size 432x288 with 1 Axes>"
      ]
     },
     "metadata": {
      "needs_background": "light"
     },
     "output_type": "display_data"
    }
   ],
   "source": [
    "plt.hist(img_0.flat, bins=100, range=(0, 1))"
   ]
  },
  {
   "cell_type": "code",
   "execution_count": 18,
   "metadata": {},
   "outputs": [],
   "source": [
    "sigma_est_0 = np.mean(estimate_sigma(img_0, multichannel=True))\n",
    "denoise_img_0 = denoise_nl_means(img_0, h=1.15 * sigma_est_0, fast_mode=True, patch_size=5, patch_distance=3, multichannel=True)"
   ]
  },
  {
   "cell_type": "code",
   "execution_count": 19,
   "metadata": {},
   "outputs": [
    {
     "data": {
      "text/plain": [
       "(array([2.062e+03, 4.380e+02, 1.470e+02, 1.030e+02, 7.800e+01, 4.400e+01,\n",
       "        3.500e+01, 2.800e+01, 2.800e+01, 1.400e+01, 1.500e+01, 2.300e+01,\n",
       "        1.300e+01, 1.800e+01, 6.000e+00, 8.000e+00, 1.000e+01, 7.000e+00,\n",
       "        6.000e+00, 1.200e+01, 2.000e+00, 1.200e+01, 5.000e+00, 1.300e+01,\n",
       "        1.100e+01, 1.300e+01, 9.000e+00, 5.000e+00, 1.000e+00, 3.000e+00,\n",
       "        6.000e+00, 7.000e+00, 7.000e+00, 7.000e+00, 6.000e+00, 5.000e+00,\n",
       "        2.000e+00, 3.000e+00, 5.000e+00, 6.000e+00, 3.000e+00, 8.000e+00,\n",
       "        2.000e+00, 5.000e+00, 8.000e+00, 6.000e+00, 6.000e+00, 8.000e+00,\n",
       "        4.000e+00, 1.000e+00, 9.000e+00, 1.000e+00, 8.000e+00, 4.000e+00,\n",
       "        1.000e+01, 7.000e+00, 8.000e+00, 4.000e+00, 7.000e+00, 6.000e+00,\n",
       "        4.000e+00, 4.000e+00, 7.000e+00, 3.000e+00, 1.000e+01, 5.000e+00,\n",
       "        4.000e+00, 5.000e+00, 7.000e+00, 7.000e+00, 5.000e+00, 8.000e+00,\n",
       "        1.300e+01, 8.000e+00, 1.100e+01, 1.800e+01, 4.200e+01, 1.070e+02,\n",
       "        1.120e+02, 1.280e+02, 1.350e+02, 1.550e+02, 1.370e+02, 1.590e+02,\n",
       "        1.420e+02, 1.100e+02, 7.900e+01, 6.500e+01, 3.400e+01, 3.700e+01,\n",
       "        3.200e+01, 4.700e+01, 4.000e+00, 0.000e+00, 0.000e+00, 0.000e+00,\n",
       "        0.000e+00, 0.000e+00, 0.000e+00, 0.000e+00]),\n",
       " array([0.  , 0.01, 0.02, 0.03, 0.04, 0.05, 0.06, 0.07, 0.08, 0.09, 0.1 ,\n",
       "        0.11, 0.12, 0.13, 0.14, 0.15, 0.16, 0.17, 0.18, 0.19, 0.2 , 0.21,\n",
       "        0.22, 0.23, 0.24, 0.25, 0.26, 0.27, 0.28, 0.29, 0.3 , 0.31, 0.32,\n",
       "        0.33, 0.34, 0.35, 0.36, 0.37, 0.38, 0.39, 0.4 , 0.41, 0.42, 0.43,\n",
       "        0.44, 0.45, 0.46, 0.47, 0.48, 0.49, 0.5 , 0.51, 0.52, 0.53, 0.54,\n",
       "        0.55, 0.56, 0.57, 0.58, 0.59, 0.6 , 0.61, 0.62, 0.63, 0.64, 0.65,\n",
       "        0.66, 0.67, 0.68, 0.69, 0.7 , 0.71, 0.72, 0.73, 0.74, 0.75, 0.76,\n",
       "        0.77, 0.78, 0.79, 0.8 , 0.81, 0.82, 0.83, 0.84, 0.85, 0.86, 0.87,\n",
       "        0.88, 0.89, 0.9 , 0.91, 0.92, 0.93, 0.94, 0.95, 0.96, 0.97, 0.98,\n",
       "        0.99, 1.  ]),\n",
       " <a list of 100 Patch objects>)"
      ]
     },
     "execution_count": 19,
     "metadata": {},
     "output_type": "execute_result"
    },
    {
     "data": {
      "image/png": "[encoded data removed]",
      "text/plain": [
       "<Figure size 432x288 with 1 Axes>"
      ]
     },
     "metadata": {
      "needs_background": "light"
     },
     "output_type": "display_data"
    }
   ],
   "source": [
    "plt.hist(denoise_img_0.flat, bins=100, range=(0, 1)) "
   ]
  },
  {
   "cell_type": "code",
   "execution_count": null,
   "metadata": {},
   "outputs": [],
   "source": []
  },
  {
   "cell_type": "code",
   "execution_count": null,
   "metadata": {},
   "outputs": [],
   "source": []
  },
  {
   "cell_type": "code",
   "execution_count": null,
   "metadata": {},
   "outputs": [],
   "source": []
  },
  {
   "cell_type": "code",
   "execution_count": null,
   "metadata": {},
   "outputs": [],
   "source": []
  },
  {
   "cell_type": "code",
   "execution_count": 20,
   "metadata": {},
   "outputs": [
    {
     "data": {
      "text/plain": [
       "(array([1.958e+03, 5.640e+02, 1.810e+02, 1.290e+02, 8.100e+01, 5.400e+01,\n",
       "        4.100e+01, 3.800e+01, 3.000e+01, 2.100e+01, 1.400e+01, 1.200e+01,\n",
       "        1.600e+01, 1.500e+01, 1.100e+01, 1.100e+01, 8.000e+00, 1.200e+01,\n",
       "        1.400e+01, 8.000e+00, 1.100e+01, 3.000e+00, 5.000e+00, 1.000e+01,\n",
       "        4.000e+00, 7.000e+00, 5.000e+00, 7.000e+00, 7.000e+00, 5.000e+00,\n",
       "        1.000e+00, 1.100e+01, 4.000e+00, 1.100e+01, 6.000e+00, 3.000e+00,\n",
       "        8.000e+00, 1.000e+00, 1.100e+01, 5.000e+00, 7.000e+00, 6.000e+00,\n",
       "        4.000e+00, 8.000e+00, 7.000e+00, 7.000e+00, 4.000e+00, 4.000e+00,\n",
       "        8.000e+00, 7.000e+00, 4.000e+00, 1.000e+01, 7.000e+00, 1.200e+01,\n",
       "        8.000e+00, 1.000e+01, 7.000e+00, 1.600e+01, 1.100e+01, 1.000e+01,\n",
       "        9.000e+00, 6.000e+00, 1.100e+01, 7.000e+00, 9.000e+00, 8.000e+00,\n",
       "        1.100e+01, 1.400e+01, 7.000e+00, 9.000e+00, 1.500e+01, 1.100e+01,\n",
       "        1.800e+01, 1.400e+01, 4.200e+01, 5.100e+01, 8.300e+01, 1.400e+02,\n",
       "        2.000e+02, 2.060e+02, 1.860e+02, 1.580e+02, 1.670e+02, 1.840e+02,\n",
       "        1.490e+02, 1.420e+02, 1.000e+02, 8.500e+01, 6.100e+01, 5.500e+01,\n",
       "        5.900e+01, 5.100e+01, 1.300e+01, 1.000e+00, 0.000e+00, 0.000e+00,\n",
       "        0.000e+00, 0.000e+00, 0.000e+00, 0.000e+00]),\n",
       " array([0.  , 0.01, 0.02, 0.03, 0.04, 0.05, 0.06, 0.07, 0.08, 0.09, 0.1 ,\n",
       "        0.11, 0.12, 0.13, 0.14, 0.15, 0.16, 0.17, 0.18, 0.19, 0.2 , 0.21,\n",
       "        0.22, 0.23, 0.24, 0.25, 0.26, 0.27, 0.28, 0.29, 0.3 , 0.31, 0.32,\n",
       "        0.33, 0.34, 0.35, 0.36, 0.37, 0.38, 0.39, 0.4 , 0.41, 0.42, 0.43,\n",
       "        0.44, 0.45, 0.46, 0.47, 0.48, 0.49, 0.5 , 0.51, 0.52, 0.53, 0.54,\n",
       "        0.55, 0.56, 0.57, 0.58, 0.59, 0.6 , 0.61, 0.62, 0.63, 0.64, 0.65,\n",
       "        0.66, 0.67, 0.68, 0.69, 0.7 , 0.71, 0.72, 0.73, 0.74, 0.75, 0.76,\n",
       "        0.77, 0.78, 0.79, 0.8 , 0.81, 0.82, 0.83, 0.84, 0.85, 0.86, 0.87,\n",
       "        0.88, 0.89, 0.9 , 0.91, 0.92, 0.93, 0.94, 0.95, 0.96, 0.97, 0.98,\n",
       "        0.99, 1.  ]),\n",
       " <a list of 100 Patch objects>)"
      ]
     },
     "execution_count": 20,
     "metadata": {},
     "output_type": "execute_result"
    },
    {
     "data": {
      "image/png": "[encoded data removed]",
      "text/plain": [
       "<Figure size 432x288 with 1 Axes>"
      ]
     },
     "metadata": {
      "needs_background": "light"
     },
     "output_type": "display_data"
    }
   ],
   "source": [
    "plt.hist(img_1.flat, bins=100, range=(0, 1))"
   ]
  },
  {
   "cell_type": "code",
   "execution_count": null,
   "metadata": {},
   "outputs": [],
   "source": []
  },
  {
   "cell_type": "code",
   "execution_count": 21,
   "metadata": {},
   "outputs": [
    {
     "name": "stderr",
     "output_type": "stream",
     "text": [
      "/home/cncdragneel/anaconda3/lib/python3.7/site-packages/numpy/core/fromnumeric.py:2957: RuntimeWarning: Mean of empty slice.\n",
      "  out=out, **kwargs)\n",
      "/home/cncdragneel/anaconda3/lib/python3.7/site-packages/numpy/core/_methods.py:80: RuntimeWarning: invalid value encountered in double_scalars\n",
      "  ret = ret.dtype.type(ret / rcount)\n"
     ]
    }
   ],
   "source": [
    "sigma_est_1 = np.mean(estimate_sigma(img_1, multichannel=True))\n",
    "denoise_img_1 = denoise_nl_means(img_1, h=1.15 * sigma_est_1, fast_mode=True, patch_size=5, patch_distance=3, multichannel=True)"
   ]
  },
  {
   "cell_type": "code",
   "execution_count": 22,
   "metadata": {},
   "outputs": [
    {
     "data": {
      "text/plain": [
       "(array([1681.,  424.,  105.,   69.,   42.,   56.,   44.,   30.,   39.,\n",
       "          25.,   40.,   35.,   26.,   29.,   27.,   30.,   25.,   27.,\n",
       "          18.,   29.,   23.,   23.,   27.,   26.,   24.,   27.,   27.,\n",
       "          21.,   18.,   26.,   22.,   22.,   23.,   32.,   19.,   27.,\n",
       "          21.,   30.,   22.,   18.,   22.,   32.,   13.,   24.,   27.,\n",
       "          23.,   23.,   15.,   30.,   30.,   16.,   19.,   26.,   30.,\n",
       "          20.,   32.,   18.,   24.,   24.,   35.,   31.,   20.,   34.,\n",
       "          29.,   21.,   29.,   42.,   26.,   28.,   45.,   52.,   40.,\n",
       "          56.,   50.,   47.,   51.,   66.,   72.,  134.,  151.,  166.,\n",
       "         181.,  164.,  134.,  147.,   99.,   51.,   32.,   20.,    2.,\n",
       "           0.,    0.,    0.,    0.,    0.,    0.,    0.,    0.,    0.,\n",
       "           0.]),\n",
       " array([0.  , 0.01, 0.02, 0.03, 0.04, 0.05, 0.06, 0.07, 0.08, 0.09, 0.1 ,\n",
       "        0.11, 0.12, 0.13, 0.14, 0.15, 0.16, 0.17, 0.18, 0.19, 0.2 , 0.21,\n",
       "        0.22, 0.23, 0.24, 0.25, 0.26, 0.27, 0.28, 0.29, 0.3 , 0.31, 0.32,\n",
       "        0.33, 0.34, 0.35, 0.36, 0.37, 0.38, 0.39, 0.4 , 0.41, 0.42, 0.43,\n",
       "        0.44, 0.45, 0.46, 0.47, 0.48, 0.49, 0.5 , 0.51, 0.52, 0.53, 0.54,\n",
       "        0.55, 0.56, 0.57, 0.58, 0.59, 0.6 , 0.61, 0.62, 0.63, 0.64, 0.65,\n",
       "        0.66, 0.67, 0.68, 0.69, 0.7 , 0.71, 0.72, 0.73, 0.74, 0.75, 0.76,\n",
       "        0.77, 0.78, 0.79, 0.8 , 0.81, 0.82, 0.83, 0.84, 0.85, 0.86, 0.87,\n",
       "        0.88, 0.89, 0.9 , 0.91, 0.92, 0.93, 0.94, 0.95, 0.96, 0.97, 0.98,\n",
       "        0.99, 1.  ]),\n",
       " <a list of 100 Patch objects>)"
      ]
     },
     "execution_count": 22,
     "metadata": {},
     "output_type": "execute_result"
    },
    {
     "data": {
      "image/png": "[encoded data removed]",
      "text/plain": [
       "<Figure size 432x288 with 1 Axes>"
      ]
     },
     "metadata": {
      "needs_background": "light"
     },
     "output_type": "display_data"
    }
   ],
   "source": [
    "plt.hist(denoise_img_1.flat, bins=100, range=(0, 1)) "
   ]
  },
  {
   "cell_type": "code",
   "execution_count": null,
   "metadata": {},
   "outputs": [],
   "source": []
  },
  {
   "cell_type": "code",
   "execution_count": null,
   "metadata": {},
   "outputs": [],
   "source": []
  },
  {
   "cell_type": "code",
   "execution_count": 23,
   "metadata": {},
   "outputs": [
    {
     "data": {
      "text/plain": [
       "<matplotlib.image.AxesImage at 0x7f925aa92990>"
      ]
     },
     "execution_count": 23,
     "metadata": {},
     "output_type": "execute_result"
    },
    {
     "data": {
      "image/png": "[encoded data removed]",
      "text/plain": [
       "<Figure size 432x288 with 1 Axes>"
      ]
     },
     "metadata": {
      "needs_background": "light"
     },
     "output_type": "display_data"
    }
   ],
   "source": [
    "eq_img_0 = exposure.equalize_hist(denoise_img_0)\n",
    "plt.imshow(eq_img_0, cmap='gray')"
   ]
  },
  {
   "cell_type": "code",
   "execution_count": null,
   "metadata": {},
   "outputs": [],
   "source": []
  },
  {
   "cell_type": "code",
   "execution_count": 24,
   "metadata": {},
   "outputs": [
    {
     "data": {
      "text/plain": [
       "(array([2.062e+03, 4.380e+02, 1.470e+02, 1.030e+02, 7.800e+01, 4.400e+01,\n",
       "        3.500e+01, 2.800e+01, 2.800e+01, 1.400e+01, 1.500e+01, 2.300e+01,\n",
       "        1.300e+01, 1.800e+01, 6.000e+00, 8.000e+00, 1.000e+01, 7.000e+00,\n",
       "        6.000e+00, 1.200e+01, 2.000e+00, 1.200e+01, 5.000e+00, 1.300e+01,\n",
       "        1.100e+01, 1.300e+01, 9.000e+00, 5.000e+00, 1.000e+00, 3.000e+00,\n",
       "        6.000e+00, 7.000e+00, 7.000e+00, 7.000e+00, 6.000e+00, 5.000e+00,\n",
       "        2.000e+00, 3.000e+00, 5.000e+00, 6.000e+00, 3.000e+00, 8.000e+00,\n",
       "        2.000e+00, 5.000e+00, 8.000e+00, 6.000e+00, 6.000e+00, 8.000e+00,\n",
       "        4.000e+00, 1.000e+00, 9.000e+00, 1.000e+00, 8.000e+00, 4.000e+00,\n",
       "        1.000e+01, 7.000e+00, 8.000e+00, 4.000e+00, 7.000e+00, 6.000e+00,\n",
       "        4.000e+00, 4.000e+00, 7.000e+00, 3.000e+00, 1.000e+01, 5.000e+00,\n",
       "        4.000e+00, 5.000e+00, 7.000e+00, 7.000e+00, 5.000e+00, 8.000e+00,\n",
       "        1.300e+01, 8.000e+00, 1.100e+01, 1.800e+01, 4.200e+01, 1.070e+02,\n",
       "        1.120e+02, 1.280e+02, 1.350e+02, 1.550e+02, 1.370e+02, 1.590e+02,\n",
       "        1.420e+02, 1.100e+02, 7.900e+01, 6.500e+01, 3.400e+01, 3.700e+01,\n",
       "        3.200e+01, 4.700e+01, 4.000e+00, 0.000e+00, 0.000e+00, 0.000e+00,\n",
       "        0.000e+00, 0.000e+00, 0.000e+00, 0.000e+00]),\n",
       " array([0.  , 0.01, 0.02, 0.03, 0.04, 0.05, 0.06, 0.07, 0.08, 0.09, 0.1 ,\n",
       "        0.11, 0.12, 0.13, 0.14, 0.15, 0.16, 0.17, 0.18, 0.19, 0.2 , 0.21,\n",
       "        0.22, 0.23, 0.24, 0.25, 0.26, 0.27, 0.28, 0.29, 0.3 , 0.31, 0.32,\n",
       "        0.33, 0.34, 0.35, 0.36, 0.37, 0.38, 0.39, 0.4 , 0.41, 0.42, 0.43,\n",
       "        0.44, 0.45, 0.46, 0.47, 0.48, 0.49, 0.5 , 0.51, 0.52, 0.53, 0.54,\n",
       "        0.55, 0.56, 0.57, 0.58, 0.59, 0.6 , 0.61, 0.62, 0.63, 0.64, 0.65,\n",
       "        0.66, 0.67, 0.68, 0.69, 0.7 , 0.71, 0.72, 0.73, 0.74, 0.75, 0.76,\n",
       "        0.77, 0.78, 0.79, 0.8 , 0.81, 0.82, 0.83, 0.84, 0.85, 0.86, 0.87,\n",
       "        0.88, 0.89, 0.9 , 0.91, 0.92, 0.93, 0.94, 0.95, 0.96, 0.97, 0.98,\n",
       "        0.99, 1.  ]),\n",
       " <a list of 100 Patch objects>)"
      ]
     },
     "execution_count": 24,
     "metadata": {},
     "output_type": "execute_result"
    },
    {
     "data": {
      "image/png": "[encoded data removed]",
      "text/plain": [
       "<Figure size 432x288 with 1 Axes>"
      ]
     },
     "metadata": {
      "needs_background": "light"
     },
     "output_type": "display_data"
    }
   ],
   "source": [
    "eq_img_0_1 = exposure.equalize_adapthist(denoise_img_0)\n",
    "plt.hist(denoise_img_0.flat, bins=100, range=(0., 1))"
   ]
  },
  {
   "cell_type": "code",
   "execution_count": null,
   "metadata": {},
   "outputs": [],
   "source": []
  },
  {
   "cell_type": "code",
   "execution_count": null,
   "metadata": {},
   "outputs": [],
   "source": []
  },
  {
   "cell_type": "code",
   "execution_count": 25,
   "metadata": {},
   "outputs": [
    {
     "data": {
      "text/plain": [
       "<matplotlib.image.AxesImage at 0x7f925a0b1350>"
      ]
     },
     "execution_count": 25,
     "metadata": {},
     "output_type": "execute_result"
    },
    {
     "data": {
      "image/png": "[encoded data removed]",
      "text/plain": [
       "<Figure size 432x288 with 1 Axes>"
      ]
     },
     "metadata": {
      "needs_background": "light"
     },
     "output_type": "display_data"
    }
   ],
   "source": [
    "eq_img_1 = exposure.equalize_hist(denoise_img_1)\n",
    "plt.imshow(eq_img_1, cmap='gray')"
   ]
  },
  {
   "cell_type": "code",
   "execution_count": null,
   "metadata": {},
   "outputs": [],
   "source": []
  },
  {
   "cell_type": "code",
   "execution_count": 26,
   "metadata": {},
   "outputs": [
    {
     "data": {
      "text/plain": [
       "(array([1681.,  424.,  105.,   69.,   42.,   56.,   44.,   30.,   39.,\n",
       "          25.,   40.,   35.,   26.,   29.,   27.,   30.,   25.,   27.,\n",
       "          18.,   29.,   23.,   23.,   27.,   26.,   24.,   27.,   27.,\n",
       "          21.,   18.,   26.,   22.,   22.,   23.,   32.,   19.,   27.,\n",
       "          21.,   30.,   22.,   18.,   22.,   32.,   13.,   24.,   27.,\n",
       "          23.,   23.,   15.,   30.,   30.,   16.,   19.,   26.,   30.,\n",
       "          20.,   32.,   18.,   24.,   24.,   35.,   31.,   20.,   34.,\n",
       "          29.,   21.,   29.,   42.,   26.,   28.,   45.,   52.,   40.,\n",
       "          56.,   50.,   47.,   51.,   66.,   72.,  134.,  151.,  166.,\n",
       "         181.,  164.,  134.,  147.,   99.,   51.,   32.,   20.,    2.,\n",
       "           0.,    0.,    0.,    0.,    0.,    0.,    0.,    0.,    0.,\n",
       "           0.]),\n",
       " array([0.  , 0.01, 0.02, 0.03, 0.04, 0.05, 0.06, 0.07, 0.08, 0.09, 0.1 ,\n",
       "        0.11, 0.12, 0.13, 0.14, 0.15, 0.16, 0.17, 0.18, 0.19, 0.2 , 0.21,\n",
       "        0.22, 0.23, 0.24, 0.25, 0.26, 0.27, 0.28, 0.29, 0.3 , 0.31, 0.32,\n",
       "        0.33, 0.34, 0.35, 0.36, 0.37, 0.38, 0.39, 0.4 , 0.41, 0.42, 0.43,\n",
       "        0.44, 0.45, 0.46, 0.47, 0.48, 0.49, 0.5 , 0.51, 0.52, 0.53, 0.54,\n",
       "        0.55, 0.56, 0.57, 0.58, 0.59, 0.6 , 0.61, 0.62, 0.63, 0.64, 0.65,\n",
       "        0.66, 0.67, 0.68, 0.69, 0.7 , 0.71, 0.72, 0.73, 0.74, 0.75, 0.76,\n",
       "        0.77, 0.78, 0.79, 0.8 , 0.81, 0.82, 0.83, 0.84, 0.85, 0.86, 0.87,\n",
       "        0.88, 0.89, 0.9 , 0.91, 0.92, 0.93, 0.94, 0.95, 0.96, 0.97, 0.98,\n",
       "        0.99, 1.  ]),\n",
       " <a list of 100 Patch objects>)"
      ]
     },
     "execution_count": 26,
     "metadata": {},
     "output_type": "execute_result"
    },
    {
     "data": {
      "image/png": "[encoded data removed]",
      "text/plain": [
       "<Figure size 432x288 with 1 Axes>"
      ]
     },
     "metadata": {
      "needs_background": "light"
     },
     "output_type": "display_data"
    }
   ],
   "source": [
    "eq_img_1_1 = exposure.equalize_adapthist(denoise_img_1)\n",
    "plt.hist(denoise_img_1.flat, bins=100, range=(0., 1))"
   ]
  },
  {
   "cell_type": "code",
   "execution_count": null,
   "metadata": {},
   "outputs": [],
   "source": []
  },
  {
   "cell_type": "code",
   "execution_count": null,
   "metadata": {},
   "outputs": [],
   "source": []
  },
  {
   "cell_type": "code",
   "execution_count": null,
   "metadata": {},
   "outputs": [],
   "source": []
  },
  {
   "cell_type": "markdown",
   "metadata": {},
   "source": [
    "# Marker Include all the Peaks Value"
   ]
  },
  {
   "cell_type": "code",
   "execution_count": null,
   "metadata": {},
   "outputs": [],
   "source": []
  },
  {
   "cell_type": "code",
   "execution_count": null,
   "metadata": {},
   "outputs": [],
   "source": []
  },
  {
   "cell_type": "code",
   "execution_count": 27,
   "metadata": {},
   "outputs": [],
   "source": [
    "markers_0 = np.zeros(img_0.shape, dtype=np.uint)"
   ]
  },
  {
   "cell_type": "code",
   "execution_count": null,
   "metadata": {},
   "outputs": [],
   "source": []
  },
  {
   "cell_type": "code",
   "execution_count": 28,
   "metadata": {},
   "outputs": [],
   "source": [
    "markers_0[(eq_img_0_1 < 0.8) & (eq_img_0_1 > 0.7)] = 1\n",
    "markers_0[(eq_img_0_1 > 0.85) & (eq_img_0_1 < 0.99)] = 2"
   ]
  },
  {
   "cell_type": "code",
   "execution_count": null,
   "metadata": {},
   "outputs": [],
   "source": []
  },
  {
   "cell_type": "code",
   "execution_count": null,
   "metadata": {},
   "outputs": [],
   "source": []
  },
  {
   "cell_type": "markdown",
   "metadata": {},
   "source": [
    "# Applying Random Walker Algorithm"
   ]
  },
  {
   "cell_type": "code",
   "execution_count": null,
   "metadata": {},
   "outputs": [],
   "source": []
  },
  {
   "cell_type": "code",
   "execution_count": null,
   "metadata": {},
   "outputs": [],
   "source": []
  },
  {
   "cell_type": "code",
   "execution_count": 29,
   "metadata": {},
   "outputs": [],
   "source": [
    "labels = random_walker(eq_img_0_1, markers_0, beta=10, mode='bf')\n",
    "plt.imsave(\"markers_0_1.jpg\", markers_0)\n",
    "segm1_0 = (labels == 1)\n",
    "segm2_0 = (labels == 2)\n",
    "all_segments_0 = np.zeros((eq_img_0_1.shape[0], eq_img_0_1.shape[1], 3)) #nothing but denoise img size but blank\n",
    "\n",
    "all_segments_0[segm1_0] = (1,0,0)\n",
    "all_segments_0[segm2_0] = (0,1,0)"
   ]
  },
  {
   "cell_type": "code",
   "execution_count": 30,
   "metadata": {},
   "outputs": [
    {
     "data": {
      "text/plain": [
       "<matplotlib.image.AxesImage at 0x7f9259ea0c10>"
      ]
     },
     "execution_count": 30,
     "metadata": {},
     "output_type": "execute_result"
    },
    {
     "data": {
      "image/png": "[encoded data removed]",
      "text/plain": [
       "<Figure size 432x288 with 1 Axes>"
      ]
     },
     "metadata": {
      "needs_background": "light"
     },
     "output_type": "display_data"
    }
   ],
   "source": [
    "plt.imshow(all_segments_0)"
   ]
  },
  {
   "cell_type": "code",
   "execution_count": null,
   "metadata": {},
   "outputs": [],
   "source": []
  },
  {
   "cell_type": "code",
   "execution_count": null,
   "metadata": {},
   "outputs": [],
   "source": []
  },
  {
   "cell_type": "code",
   "execution_count": 31,
   "metadata": {},
   "outputs": [],
   "source": [
    "segm1_closed_0 = nd.binary_closing(segm1_0, np.ones((3,3)))\n",
    "segm2_closed_0 = nd.binary_closing(segm2_0, np.ones((3,3)))"
   ]
  },
  {
   "cell_type": "code",
   "execution_count": 32,
   "metadata": {},
   "outputs": [],
   "source": [
    "all_segments_cleaned_0 = np.zeros((eq_img_0_1.shape[0], eq_img_0_1.shape[1], 3)) "
   ]
  },
  {
   "cell_type": "code",
   "execution_count": 33,
   "metadata": {},
   "outputs": [],
   "source": [
    "all_segments_cleaned_0[segm1_closed_0] = (1,0,0)\n",
    "all_segments_cleaned_0[segm2_closed_0] = (0,1,0)"
   ]
  },
  {
   "cell_type": "code",
   "execution_count": 34,
   "metadata": {},
   "outputs": [
    {
     "data": {
      "image/png": "[encoded data removed]",
      "text/plain": [
       "<Figure size 432x288 with 1 Axes>"
      ]
     },
     "metadata": {
      "needs_background": "light"
     },
     "output_type": "display_data"
    }
   ],
   "source": [
    "plt.imshow(all_segments_cleaned_0) \n",
    "plt.imsave(\"random_walker_0.jpg\", all_segments_cleaned_0)"
   ]
  },
  {
   "cell_type": "code",
   "execution_count": null,
   "metadata": {},
   "outputs": [],
   "source": []
  }
 ],
 "metadata": {
  "kernelspec": {
   "display_name": "Python 3",
   "language": "python",
   "name": "python3"
  },
  "language_info": {
   "codemirror_mode": {
    "name": "ipython",
    "version": 3
   },
   "file_extension": ".py",
   "mimetype": "text/x-python",
   "name": "python",
   "nbconvert_exporter": "python",
   "pygments_lexer": "ipython3",
   "version": "3.7.6"
  }
 },
 "nbformat": 4,
 "nbformat_minor": 4
}
