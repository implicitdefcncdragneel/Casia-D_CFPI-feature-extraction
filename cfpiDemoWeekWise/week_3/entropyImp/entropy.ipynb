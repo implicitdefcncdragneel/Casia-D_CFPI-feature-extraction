{
 "cells": [
  {
   "cell_type": "code",
   "execution_count": 1,
   "metadata": {},
   "outputs": [],
   "source": [
    "import matplotlib.pyplot as plt \n",
    "\n",
    "from skimage import io\n",
    "from skimage.filters.rank import entropy\n",
    "from skimage.morphology import disk\n",
    "\n",
    "import numpy as np\n",
    "\n",
    "from skimage.filters import threshold_otsu\n",
    "\n",
    "from scipy.stats import linregress\n",
    "\n",
    "import glob"
   ]
  },
  {
   "cell_type": "code",
   "execution_count": null,
   "metadata": {},
   "outputs": [],
   "source": []
  },
  {
   "cell_type": "code",
   "execution_count": 2,
   "metadata": {},
   "outputs": [],
   "source": [
    "#img=io.imread(\"demo1.jpg\",as_gray=True)\n",
    "#entropy_img=entropy(img,disk(2))\n",
    "#thresh=threshold_otsu(entropy_img) #1D array\n",
    "\n",
    "#print(thresh)\n",
    "#plt.imshow(entropy_img)\n",
    "\n",
    "#binary=entropy_img>=thresh\n",
    "#print( np.sum(binary == 1))\n",
    "#plt.imshow(binary)"
   ]
  },
  {
   "cell_type": "code",
   "execution_count": null,
   "metadata": {},
   "outputs": [],
   "source": []
  },
  {
   "cell_type": "code",
   "execution_count": 3,
   "metadata": {},
   "outputs": [],
   "source": [
    "time = 0\n",
    "time_list=[]\n",
    "area_list=[]\n",
    "path = \"/home/cncdragneel/Final_Year_project/openCv/entropyImp/dataset/*.*\""
   ]
  },
  {
   "cell_type": "code",
   "execution_count": 4,
   "metadata": {},
   "outputs": [
    {
     "name": "stdout",
     "output_type": "stream",
     "text": [
      "/home/cncdragneel/Final_Year_project/openCv/entropyImp/dataset/*.*\n"
     ]
    }
   ],
   "source": [
    "print(path)"
   ]
  },
  {
   "cell_type": "code",
   "execution_count": null,
   "metadata": {},
   "outputs": [],
   "source": []
  },
  {
   "cell_type": "markdown",
   "metadata": {},
   "source": [
    "# Calculation The Entropy For Each Right Foot Pressure Of Subject \"24\""
   ]
  },
  {
   "cell_type": "code",
   "execution_count": null,
   "metadata": {},
   "outputs": [],
   "source": []
  },
  {
   "cell_type": "code",
   "execution_count": 7,
   "metadata": {},
   "outputs": [
    {
     "name": "stdout",
     "output_type": "stream",
     "text": [
      "[0, 1, 2, 3, 4, 5, 6, 7, 8, 9, 10, 11, 12, 13, 14, 15, 16, 17, 18, 19, 20, 21, 22, 23, 24, 25, 26, 27, 28, 29] [3692, 3724, 3768, 3630, 3642, 3661, 3620, 3662, 3895, 3610, 3713, 3553, 3700, 3772, 3583, 3692, 3724, 3768, 3630, 3642, 3661, 3620, 3662, 3895, 3610, 3713, 3553, 3700, 3772, 3583]\n"
     ]
    },
    {
     "name": "stderr",
     "output_type": "stream",
     "text": [
      "/home/cncdragneel/anaconda3/lib/python3.7/site-packages/skimage/filters/rank/generic.py:119: UserWarning: Possible precision loss converting image of type float64 to uint8 as required by rank filters. Convert manually using skimage.util.img_as_ubyte to silence this warning.\n",
      "  out_dtype)\n"
     ]
    },
    {
     "data": {
      "text/plain": [
       "[<matplotlib.lines.Line2D at 0x7fa5e81c3f90>]"
      ]
     },
     "execution_count": 7,
     "metadata": {},
     "output_type": "execute_result"
    },
    {
     "data": {
      "image/png": "[encoded data removed]",
      "text/plain": [
       "<Figure size 432x288 with 1 Axes>"
      ]
     },
     "metadata": {
      "needs_background": "light"
     },
     "output_type": "display_data"
    }
   ],
   "source": [
    "for file in glob.glob(path):\n",
    "    #dict={}\n",
    "    #print(file)\n",
    "    img=io.imread(file,as_gray=True)\n",
    "    \n",
    "    \n",
    "    entropy_img = entropy(img, disk(2))\n",
    "    \n",
    "    thresh = threshold_otsu(entropy_img)\n",
    "    \n",
    "    binary = entropy_img >= thresh\n",
    "    scratch_area = np.sum(binary == 1)\n",
    "    #print(\"time=\", time, \"hr  \", \"Scratch area=\", scratch_area, \"pix\\N{SUPERSCRIPT TWO}\")\n",
    "    time_list.append(time)\n",
    "    area_list.append(scratch_area)\n",
    "    time += 1\n",
    "    \n",
    "print(time_list, area_list)\n",
    "\n",
    "plt.plot(time_list, area_list, 'bo')"
   ]
  },
  {
   "cell_type": "code",
   "execution_count": null,
   "metadata": {},
   "outputs": [],
   "source": []
  },
  {
   "cell_type": "markdown",
   "metadata": {},
   "source": [
    "# Applying Simple Linear Regression"
   ]
  },
  {
   "cell_type": "code",
   "execution_count": null,
   "metadata": {},
   "outputs": [],
   "source": []
  },
  {
   "cell_type": "code",
   "execution_count": 8,
   "metadata": {},
   "outputs": [
    {
     "name": "stdout",
     "output_type": "stream",
     "text": [
      "LinregressResult(slope=-0.6558398220244716, intercept=3691.1763440860213, rvalue=-0.06796887117806291, pvalue=0.7211852528789168, stderr=1.8192953775812022)\n"
     ]
    }
   ],
   "source": [
    "print(linregress(time_list, area_list))"
   ]
  },
  {
   "cell_type": "code",
   "execution_count": null,
   "metadata": {},
   "outputs": [],
   "source": []
  },
  {
   "cell_type": "code",
   "execution_count": 9,
   "metadata": {},
   "outputs": [
    {
     "name": "stdout",
     "output_type": "stream",
     "text": [
      "y =  -0.6558398220244716 x  +  3691.1763440860213\n",
      "R² =  0.004619767449220111\n"
     ]
    },
    {
     "data": {
      "text/plain": [
       "[<matplotlib.lines.Line2D at 0x7fa5e8146150>]"
      ]
     },
     "execution_count": 9,
     "metadata": {},
     "output_type": "execute_result"
    },
    {
     "data": {
      "image/png": "[encoded data removed]",
      "text/plain": [
       "<Figure size 432x288 with 1 Axes>"
      ]
     },
     "metadata": {
      "needs_background": "light"
     },
     "output_type": "display_data"
    }
   ],
   "source": [
    "slope, intercept, r_value, p_value, std_err = linregress(time_list, area_list)\n",
    "print(\"y = \",slope, \"x\", \" + \", intercept  )\n",
    "print(\"R\\N{SUPERSCRIPT TWO} = \", r_value**2)\n",
    "\n",
    "plt.plot(time_list, area_list, 'bo')"
   ]
  },
  {
   "cell_type": "code",
   "execution_count": 10,
   "metadata": {},
   "outputs": [
    {
     "name": "stdout",
     "output_type": "stream",
     "text": [
      "r-squared: 0.004620\n"
     ]
    }
   ],
   "source": [
    "print(\"r-squared: %f\" % r_value**2)"
   ]
  },
  {
   "cell_type": "code",
   "execution_count": null,
   "metadata": {},
   "outputs": [],
   "source": []
  }
 ],
 "metadata": {
  "kernelspec": {
   "display_name": "Python 3",
   "language": "python",
   "name": "python3"
  },
  "language_info": {
   "codemirror_mode": {
    "name": "ipython",
    "version": 3
   },
   "file_extension": ".py",
   "mimetype": "text/x-python",
   "name": "python",
   "nbconvert_exporter": "python",
   "pygments_lexer": "ipython3",
   "version": "3.7.6"
  }
 },
 "nbformat": 4,
 "nbformat_minor": 4
}
