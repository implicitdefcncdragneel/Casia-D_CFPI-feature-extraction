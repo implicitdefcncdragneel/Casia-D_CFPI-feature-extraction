{
 "cells": [
  {
   "cell_type": "markdown",
   "metadata": {},
   "source": [
    "# CFPI"
   ]
  },
  {
   "cell_type": "code",
   "execution_count": 6,
   "metadata": {},
   "outputs": [],
   "source": [
    "#importing libraries\n",
    "import csv\n",
    "import matplotlib.pyplot as plt\n",
    "import math\n",
    "import cv2\n",
    "import glob\n",
    "import numpy as np"
   ]
  },
  {
   "cell_type": "markdown",
   "metadata": {},
   "source": [
    "# Funtion for extraxting features "
   ]
  },
  {
   "cell_type": "code",
   "execution_count": 7,
   "metadata": {},
   "outputs": [],
   "source": [
    "def extract(file_path):\n",
    "    features = []\n",
    "    for path in file_path:\n",
    "        l_path = len(path)\n",
    "        area = 0\n",
    "        arch_length = 0\n",
    "        height = 0\n",
    "        variance = 0\n",
    "        \n",
    "        for file in path:\n",
    "            \n",
    "            #reading file\n",
    "            img = cv2.imread(file)\n",
    "            \n",
    "            #grayscale conversion\n",
    "            imgray = cv2.cvtColor(img, cv2.COLOR_BGR2GRAY)\n",
    "            \n",
    "            #thresholding\n",
    "            ret, thresh = cv2.threshold(imgray, 1, 255, 0)\n",
    "            \n",
    "            #finding contours\n",
    "            image,contours, hierarchy = cv2.findContours(thresh, cv2.RETR_TREE, cv2.CHAIN_APPROX_SIMPLE)\n",
    "            \n",
    "            cnt = contours[0]\n",
    "            area += cv2.contourArea(cnt)\n",
    "            arch_length += cv2.arcLength(cnt,True)\n",
    "            _,_,w,h = cv2.boundingRect(cnt)\n",
    "            height += h\n",
    "            variance += np.var(thresh)\n",
    "        if area != 0:\n",
    "            features.append([file.split('\\\\')[0][9:],area/l_path, arch_length/l_path, height/l_path, math.sqrt(variance/l_path)])\n",
    "    return features"
   ]
  },
  {
   "cell_type": "code",
   "execution_count": 8,
   "metadata": {},
   "outputs": [],
   "source": [
    "#features for left foot\n",
    "file_left_path = [] \n",
    "\n",
    "#features for right foot\n",
    "file_right_path = [] \n",
    "\n",
    "#folders name vary from 9 to 104 in dataset\n",
    "for i in range(9,104):\n",
    "    pathname = 'dataset/'\n",
    "    glob_path = []\n",
    "    left = glob.glob(pathname+\"/\"+str(i)+ \"/*/*L.bmp\")\n",
    "    right = glob.glob(pathname+\"/\"+str(i)+ \"/*/*R.bmp\")\n",
    "    file_left_path.append(left)\n",
    "    file_right_path.append(right)"
   ]
  },
  {
   "cell_type": "code",
   "execution_count": 9,
   "metadata": {},
   "outputs": [],
   "source": [
    "#calling function\n",
    "features_left = extract(file_left_path)\n",
    "features_right = extract(file_right_path)"
   ]
  },
  {
   "cell_type": "code",
   "execution_count": 10,
   "metadata": {},
   "outputs": [],
   "source": [
    "\n",
    "#writing left\n",
    "with open('left.csv', 'w', newline='') as file:\n",
    "    writer = csv.writer(file)\n",
    "    writer.writerow([\"Person id\", \"Area\", \"Arch_Lenght\",\"Foot_Lenght\",\"Standard_Deviation\"])\n",
    "    for fl in features_left:\n",
    "        writer.writerow(fl)\n",
    "        \n",
    "#writing right\n",
    "with open('right.csv', 'w', newline='') as file:\n",
    "    writer = csv.writer(file)\n",
    "    writer.writerow([\"Person id\", \"Area\", \"Arch_Lenght\",\"Foot_Lenght\",\"Standard_Deviation\"])\n",
    "    for fr in features_right:\n",
    "        writer.writerow(fr)"
   ]
  },
  {
   "cell_type": "code",
   "execution_count": null,
   "metadata": {},
   "outputs": [],
   "source": []
  },
  {
   "cell_type": "code",
   "execution_count": null,
   "metadata": {},
   "outputs": [],
   "source": []
  }
 ],
 "metadata": {
  "kernelspec": {
   "display_name": "Python 3",
   "language": "python",
   "name": "python3"
  },
  "language_info": {
   "codemirror_mode": {
    "name": "ipython",
    "version": 3
   },
   "file_extension": ".py",
   "mimetype": "text/x-python",
   "name": "python",
   "nbconvert_exporter": "python",
   "pygments_lexer": "ipython3",
   "version": "3.7.6"
  }
 },
 "nbformat": 4,
 "nbformat_minor": 4
}
